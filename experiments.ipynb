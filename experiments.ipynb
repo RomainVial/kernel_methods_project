{
 "cells": [
  {
   "cell_type": "code",
   "execution_count": 1,
   "metadata": {},
   "outputs": [],
   "source": [
    "import utils\n",
    "import numpy as np\n",
    "from svm import MySVM\n",
    "from dataset import Dataset\n",
    "from kernels import compute_kernel_matrix\n",
    "from voting import Voting"
   ]
  },
  {
   "cell_type": "code",
   "execution_count": 2,
   "metadata": {},
   "outputs": [],
   "source": [
    "%load_ext autoreload\n",
    "%autoreload 2"
   ]
  },
  {
   "cell_type": "code",
   "execution_count": 3,
   "metadata": {},
   "outputs": [
    {
     "name": "stdout",
     "output_type": "stream",
     "text": [
      "train: 2000, val: 0\n",
      "train 0/1 proportion: [0.5 0.5]\n"
     ]
    }
   ],
   "source": [
    "dataset_id = 2\n",
    "dataset = Dataset(['data/Xtr{}.csv'.format(dataset_id)],\n",
    "                      ['data/Xtr{}_mat50.csv'.format(dataset_id)],\n",
    "                      ['data/Ytr{}.csv'.format(dataset_id)],\n",
    "                      ['data/Xte{}.csv'.format(dataset_id)],\n",
    "                      ['data/Xte{}_mat50.csv'.format(dataset_id)])\n",
    "\n",
    "print 'train: {}, val: {}'.format(len(dataset.dataset['train']['labels']), len(dataset.dataset['val']['labels']))\n",
    "print 'train 0/1 proportion:', (np.bincount(dataset.dataset['train']['labels']).astype(float)\n",
    "                                / len(dataset.dataset['train']['labels']))"
   ]
  },
  {
   "cell_type": "raw",
   "metadata": {},
   "source": [
    "spectrum_size = 5\n",
    "feature_extractor = 'spectrum'\n",
    "kernel = 'linear'\n",
    "normalization = True\n",
    "C = 10.\n",
    "\n",
    "print \"Computing Kernels...\"\n",
    "K_train_s = compute_kernel_matrix(dataset.dataset['train']['sequences'],\n",
    "                                  spectrum_size=spectrum_size,\n",
    "                                  feature_extractor=feature_extractor, kernel=kernel,\n",
    "                                  normalization=normalization)\n",
    "print \"Training SVM...\"\n",
    "my_svm_s = MySVM(C=C, dual=True, verbose=False)\n",
    "my_svm_s.fit(K_train_s, dataset.dataset['train']['labels'])\n",
    "print my_svm_s.score(K_train_s, dataset.dataset['train']['labels'])"
   ]
  },
  {
   "cell_type": "raw",
   "metadata": {},
   "source": [
    "spectrum_size = 5\n",
    "feature_extractor = 'mismatch'\n",
    "kernel = 'linear'\n",
    "normalization = True\n",
    "C = 10.\n",
    "\n",
    "print \"Computing Kernels...\"\n",
    "K_train_m = compute_kernel_matrix(dataset.dataset['train']['sequences'],\n",
    "                                  spectrum_size=spectrum_size,\n",
    "                                  feature_extractor=feature_extractor, kernel=kernel,\n",
    "                                  normalization=normalization)\n",
    "print \"Training SVM...\"\n",
    "my_svm_m = MySVM(C=C, dual=True, verbose=True)\n",
    "my_svm_m.fit(K_train_m, dataset.dataset['train']['labels'])\n",
    "print my_svm_m.score(K_train_m, dataset.dataset['train']['labels'])"
   ]
  },
  {
   "cell_type": "code",
   "execution_count": 4,
   "metadata": {},
   "outputs": [
    {
     "name": "stdout",
     "output_type": "stream",
     "text": [
      "spectrum size: 6\n",
      "Computing Kernels...\n",
      "C: 10.0\n",
      "Training SVM...\n",
      "Fold 0: 0.62\n",
      "Fold 1: 0.6425\n",
      "Fold 2: 0.63\n",
      "Fold 3: 0.6625\n",
      "Fold 4: 0.625\n",
      "Accuracy: 0.636 (+/- 0.0304302481094)\n"
     ]
    }
   ],
   "source": [
    "spectrum_size = 5\n",
    "feature_extractor = 'spectrum'\n",
    "kernel = 'rbf'\n",
    "normalization = True\n",
    "C = 10.\n",
    "\n",
    "for spectrum_size in [6]:\n",
    "    print 'spectrum size: {}'.format(spectrum_size)\n",
    "    print \"Computing Kernels...\"\n",
    "    K_train_r = compute_kernel_matrix(dataset.dataset['train']['sequences'],\n",
    "                                      spectrum_size=spectrum_size,\n",
    "                                      feature_extractor=feature_extractor, kernel=kernel,\n",
    "                                      normalization=normalization)\n",
    "    for C in [10.]:\n",
    "        print 'C: {}'.format(C)\n",
    "        print \"Training SVM...\"\n",
    "        my_svm_r = MySVM(C=C, dual=True, verbose=False)\n",
    "        scores, models = utils.cross_val(my_svm_r, K_train_r, dataset.dataset['train']['labels'])\n",
    "        print \"Accuracy: {} (+/- {})\".format(scores.mean(), scores.std() * 2)"
   ]
  },
  {
   "cell_type": "raw",
   "metadata": {},
   "source": [
    "def score(y_pred, y_true):\n",
    "    score = 0\n",
    "    n = len(y_true)\n",
    "    assert n == y_pred.shape[0], \"Something is wrong, y_true and y_pred have different lengths\"\n",
    "    for i in xrange(n):\n",
    "        if y_pred[i] == y_true[i]:\n",
    "            score += 1\n",
    "    return score / float(n)\n",
    "    \n",
    "y_pred = my_svm_s.predict(K_val_s) + my_svm_m.predict(K_val_m) + my_svm_r.predict(K_val_r)\n",
    "y_pred = np.where(y_pred > 1, 1, 0)\n",
    "print score(y_pred, dataset.dataset['val']['labels'])"
   ]
  },
  {
   "cell_type": "code",
   "execution_count": 5,
   "metadata": {},
   "outputs": [],
   "source": [
    "Y = dataset.dataset['train']['labels']\n",
    "k=5\n",
    "nb_samples = len(Y)\n",
    "fold_size = int(float(len(Y)) / k)\n",
    "nb_train = nb_samples - fold_size\n",
    "nb_val = fold_size\n",
    "scores = np.zeros((k,))\n",
    "models = []\n",
    "i = 0\n",
    "\n",
    "idx_val = [j for j in range(i * fold_size, (i+1) * fold_size)]\n",
    "idx_train = [j for j in (range(i * fold_size) + range((i+1) * fold_size, nb_samples))]\n",
    "\n",
    "Y_train = [Y[j] for j in idx_train]\n",
    "Y_val = [Y[j] for j in idx_val]\n",
    "\n",
    "K_train = np.reshape([K_train_r[j, l] for j in idx_train for l in idx_train], (nb_train, nb_train))\n",
    "K_val = np.reshape([K_train_r[j, l] for j in idx_val for l in idx_train], (nb_val, nb_train))\n"
   ]
  },
  {
   "cell_type": "code",
   "execution_count": 8,
   "metadata": {},
   "outputs": [],
   "source": [
    "voting = Voting(models)\n",
    "# voting.score(K_val, Y_val, 0.5)\n",
    "Y_pred = voting.predict(K_val,0.5)"
   ]
  },
  {
   "cell_type": "code",
   "execution_count": 9,
   "metadata": {},
   "outputs": [
    {
     "data": {
      "text/plain": [
       "array([0, 0, 0, 0, 0, 0, 0, 0, 0, 0, 0, 0, 0, 0, 0, 0, 0, 0, 0, 0, 0, 0,\n",
       "       0, 0, 0, 0, 0, 0, 0, 0, 0, 0, 0, 0, 0, 0, 0, 0, 0, 0, 0, 0, 0, 0,\n",
       "       0, 0, 0, 0, 0, 0, 0, 0, 0, 0, 0, 0, 0, 0, 0, 0, 0, 0, 0, 0, 0, 0,\n",
       "       0, 0, 0, 0, 0, 0, 0, 0, 0, 0, 0, 0, 0, 0, 0, 0, 0, 0, 0, 0, 0, 0,\n",
       "       0, 0, 0, 0, 0, 0, 0, 0, 0, 0, 0, 0, 0, 0, 0, 0, 0, 0, 0, 0, 0, 0,\n",
       "       0, 0, 0, 0, 0, 0, 0, 0, 0, 0, 0, 0, 0, 0, 0, 0, 0, 0, 0, 0, 0, 0,\n",
       "       0, 0, 0, 0, 0, 0, 0, 0, 0, 0, 0, 0, 0, 0, 0, 0, 0, 0, 0, 0, 0, 0,\n",
       "       0, 0, 0, 0, 0, 0, 0, 0, 0, 0, 0, 0, 0, 0, 0, 0, 0, 0, 0, 0, 0, 0,\n",
       "       0, 0, 0, 0, 0, 0, 0, 0, 0, 0, 0, 0, 0, 0, 0, 0, 0, 0, 0, 0, 0, 0,\n",
       "       0, 0, 0, 0, 0, 0, 0, 0, 0, 0, 0, 0, 0, 0, 0, 0, 0, 0, 0, 0, 0, 0,\n",
       "       0, 0, 0, 0, 0, 0, 0, 0, 0, 0, 0, 0, 0, 0, 0, 0, 0, 0, 0, 0, 0, 0,\n",
       "       0, 0, 0, 0, 0, 0, 0, 0, 0, 0, 0, 0, 0, 0, 0, 0, 0, 0, 0, 0, 0, 0,\n",
       "       0, 0, 0, 0, 0, 0, 0, 0, 0, 0, 0, 0, 0, 0, 0, 0, 0, 0, 0, 0, 0, 0,\n",
       "       0, 0, 0, 0, 0, 0, 0, 0, 0, 0, 0, 0, 0, 0, 0, 0, 0, 0, 0, 0, 0, 0,\n",
       "       0, 0, 0, 0, 0, 0, 0, 0, 0, 0, 0, 0, 0, 0, 0, 0, 0, 0, 0, 0, 0, 0,\n",
       "       0, 0, 0, 0, 0, 0, 0, 0, 0, 0, 0, 0, 0, 0, 0, 0, 0, 0, 0, 0, 0, 0,\n",
       "       0, 0, 0, 0, 0, 0, 0, 0, 0, 0, 0, 0, 0, 0, 0, 0, 0, 0, 0, 0, 0, 0,\n",
       "       0, 0, 0, 0, 0, 0, 0, 0, 0, 0, 0, 0, 0, 0, 0, 0, 0, 0, 0, 0, 0, 0,\n",
       "       0, 0, 0, 0])"
      ]
     },
     "execution_count": 9,
     "metadata": {},
     "output_type": "execute_result"
    }
   ],
   "source": [
    "Y_pred"
   ]
  }
 ],
 "metadata": {
  "kernelspec": {
   "display_name": "Python 2",
   "language": "python",
   "name": "python2"
  },
  "language_info": {
   "codemirror_mode": {
    "name": "ipython",
    "version": 2
   },
   "file_extension": ".py",
   "mimetype": "text/x-python",
   "name": "python",
   "nbconvert_exporter": "python",
   "pygments_lexer": "ipython2",
   "version": "2.7.10"
  }
 },
 "nbformat": 4,
 "nbformat_minor": 2
}
